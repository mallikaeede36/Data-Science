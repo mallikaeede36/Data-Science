{
  "metadata": {
    "kernelspec": {
      "name": "python",
      "display_name": "Python (Pyodide)",
      "language": "python"
    },
    "language_info": {
      "codemirror_mode": {
        "name": "python",
        "version": 3
      },
      "file_extension": ".py",
      "mimetype": "text/x-python",
      "name": "python",
      "nbconvert_exporter": "python",
      "pygments_lexer": "ipython3",
      "version": "3.8"
    }
  },
  "nbformat_minor": 4,
  "nbformat": 4,
  "cells": [
    {
      "cell_type": "markdown",
      "source": "# Data Science Tools and Ecosystem",
      "metadata": {}
    },
    {
      "cell_type": "markdown",
      "source": "In this notebook, Data Science Tools and Ecosystems are summarized.",
      "metadata": {}
    },
    {
      "cell_type": "markdown",
      "source": "Some of the popular languages that Data Scientists use are:\n1. Python\n2. Java\n3. SQL",
      "metadata": {}
    },
    {
      "cell_type": "markdown",
      "source": "Some of the commonly used libraries used by Data Scientists include:\n1. NumPy\n2. Pandas\n3. Matplotlib",
      "metadata": {}
    },
    {
      "cell_type": "markdown",
      "source": "|Data Science Tools|\n|---|\n|SAS|\n|Hadoop|\n|TensorFlow|",
      "metadata": {}
    },
    {
      "cell_type": "markdown",
      "source": "### Below are a few examples of evaluating arithmetic expressions in Python.",
      "metadata": {}
    },
    {
      "cell_type": "code",
      "source": "#This a simple arithmetic expression to multiply and then add integers\n(3*4)+5",
      "metadata": {
        "trusted": true
      },
      "outputs": [],
      "execution_count": null
    },
    {
      "cell_type": "code",
      "source": "#This will convert 200 minutes to hours by diving by 60\n200/60",
      "metadata": {
        "trusted": true
      },
      "outputs": [],
      "execution_count": null
    },
    {
      "cell_type": "markdown",
      "source": "__Objective__\n* List popular languages that Data Science\n* List popular libraries that Data Science\n* List popular Data Science tools\n* provide comment to the statement",
      "metadata": {}
    },
    {
      "cell_type": "markdown",
      "source": "## Author\n\nKali Naga Mallika Eede",
      "metadata": {}
    }
  ]
}